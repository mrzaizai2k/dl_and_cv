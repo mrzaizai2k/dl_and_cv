{
  "cells": [
    {
      "cell_type": "markdown",
      "metadata": {
        "id": "pU0NfyFfSNlE"
      },
      "source": [
        "---\n",
        "```\n",
        "Class: DPCV - SDH@HK242 - HCMUT\n",
        "Name: Mai Chí Bảo\n",
        "MSSV: 2370691\n",
        "Exercise: 01\n",
        "\n",
        "```\n",
        "---"
      ]
    },
    {
      "cell_type": "code",
      "execution_count": 1,
      "metadata": {
        "id": "8thOGjMtRBGj"
      },
      "outputs": [],
      "source": [
        "import numpy as np\n",
        "from scipy.signal import correlate2d\n",
        "from scipy import ndimage"
      ]
    },
    {
      "cell_type": "code",
      "execution_count": 2,
      "metadata": {
        "id": "s34zz5ejROdY"
      },
      "outputs": [],
      "source": [
        "\n",
        "\n",
        "def deep_conv_func(input_f: np.array, kernel_h: np.array, padding: bool=False, padding_mode='zero') -> np.array:\n",
        "    \"\"\"\n",
        "    Performs 2D convolution of input array with a kernel.\n",
        "    \n",
        "    Args:\n",
        "        input_f: 2D array, input array\n",
        "        kernel_h: 2D array, kernel array\n",
        "        padding: boolean, True/False, padding or not\n",
        "        padding_mode: zero/replicator/reflection\n",
        "    \n",
        "    Returns:\n",
        "        output_g: 2D array, result of convolution\n",
        "    \"\"\"\n",
        "    # Get dimensions\n",
        "    input_height, input_width = input_f.shape\n",
        "    kernel_height, kernel_width = kernel_h.shape\n",
        "    \n",
        "    # Calculate padding size\n",
        "    pad_h = kernel_height // 2\n",
        "    pad_w = kernel_width // 2\n",
        "    \n",
        "    if padding:\n",
        "        if padding_mode == 'zero':\n",
        "            mode = 'constant'\n",
        "        else:\n",
        "            raise ValueError(f'Unknown padding mode {padding_mode}')\n",
        "            \n",
        "        # Add padding to input\n",
        "        padded_input = np.pad(input_f, \n",
        "                            ((pad_h, pad_h), (pad_w, pad_w)), \n",
        "                            mode=mode,\n",
        "                            constant_values=0)\n",
        "        \n",
        "        # Output will have same size as input\n",
        "        output_height = input_height\n",
        "        output_width = input_width\n",
        "        \n",
        "    else:\n",
        "        # No padding - output will be smaller than input\n",
        "        padded_input = input_f\n",
        "        output_height = input_height - kernel_height + 1\n",
        "        output_width = input_width - kernel_width + 1\n",
        "    \n",
        "    # Initialize output array\n",
        "    output_g = np.zeros((output_height, output_width))\n",
        "    \n",
        "    # Perform convolution\n",
        "    for i in range(output_height):\n",
        "        for j in range(output_width):\n",
        "            # Extract the current window from input\n",
        "            window = padded_input[i:i+kernel_height, j:j+kernel_width]\n",
        "            # Multiply element-wise with kernel and sum\n",
        "            output_g[i, j] = np.sum(window * kernel_h)\n",
        "    \n",
        "    return output_g"
      ]
    },
    {
      "cell_type": "code",
      "execution_count": 3,
      "metadata": {
        "id": "FiCB4APuR72a"
      },
      "outputs": [
        {
          "name": "stdout",
          "output_type": "stream",
          "text": [
            "scipy_zp [[ 3.74790674  3.91428928  7.44223472 ... -2.63710426 -1.45615395\n",
            "  -4.88572582]\n",
            " [ 2.91342043  2.88936063  1.68200872 ...  0.9628218  -3.25767824\n",
            "  -4.68690681]\n",
            " [ 5.94448537  4.27193497  2.00514776 ... -2.16606951 -2.28973002\n",
            "   2.84885829]\n",
            " ...\n",
            " [ 5.50911061  2.8145258   8.00936966 ... -1.36664011  8.13333731\n",
            "  -3.36611433]\n",
            " [-1.42553386 11.90551459  7.16219095 ... -4.2198891  -0.3517708\n",
            "   0.07605634]\n",
            " [-5.21103575  1.07685093  3.5580468  ... -3.52333856 -2.08163605\n",
            "  -0.21527382]]\n",
            "Checking zero padding deep conv: True\n",
            "Checking zero padding deep conv:  True\n"
          ]
        }
      ],
      "source": [
        "input_arr = np.random.randn(32, 48)\n",
        "kernel_arr = np.random.randn(3,5)\n",
        "\n",
        "corr_zp = deep_conv_func(input_arr, kernel_arr, padding=False)\n",
        "scipy_zp = correlate2d(input_arr, kernel_arr, mode='valid')\n",
        "print(\"scipy_zp\", scipy_zp)\n",
        "print('Checking zero padding deep conv:', np.sum(np.abs(corr_zp-scipy_zp)) < 1e-8)\n",
        "\n",
        "corr_refp = deep_conv_func(input_arr, kernel_arr, padding=True, padding_mode='zero')\n",
        "# scipy_refp = correlate2d() # Fill in correct parameters\n",
        "scipy_refp = correlate2d(input_arr, kernel_arr, mode='same')\n",
        "print('Checking zero padding deep conv: ', np.sum(np.abs(corr_refp-scipy_refp)) < 1e-8)"
      ]
    }
  ],
  "metadata": {
    "colab": {
      "provenance": []
    },
    "kernelspec": {
      "display_name": "dl_cv",
      "language": "python",
      "name": "python3"
    },
    "language_info": {
      "codemirror_mode": {
        "name": "ipython",
        "version": 3
      },
      "file_extension": ".py",
      "mimetype": "text/x-python",
      "name": "python",
      "nbconvert_exporter": "python",
      "pygments_lexer": "ipython3",
      "version": "3.10.16"
    }
  },
  "nbformat": 4,
  "nbformat_minor": 0
}
